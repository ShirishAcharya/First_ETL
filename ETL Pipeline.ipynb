{
 "cells": [
  {
   "cell_type": "markdown",
   "id": "3401d83b-ee91-4991-8cfc-5942dd73f116",
   "metadata": {},
   "source": [
    "## Building a simple ETL pipeline ( CSV into Postgre Database )\n",
    "\n",
    "<!-- Step 1: Extract the data from a CSV file and load into a Pandas dataframe\n",
    "Step 2: Transform the data ( Remove duplicates, missing data, run calculations etc)\n",
    "Step 3: Create a database\n",
    "Step 4: Load the transformed data into the database -->"
   ]
  },
  {
   "cell_type": "code",
   "execution_count": 4,
   "id": "6e0af8e8-e40b-4caf-a77e-ff913759cf84",
   "metadata": {},
   "outputs": [
    {
     "name": "stdout",
     "output_type": "stream",
     "text": [
      "Requirement already satisfied: pandas in c:\\users\\achar\\appdata\\local\\programs\\python\\python310\\lib\\site-packages (2.2.3)\n",
      "Requirement already satisfied: pytz>=2020.1 in c:\\users\\achar\\appdata\\local\\programs\\python\\python310\\lib\\site-packages (from pandas) (2025.2)\n",
      "Requirement already satisfied: python-dateutil>=2.8.2 in c:\\users\\achar\\appdata\\roaming\\python\\python310\\site-packages (from pandas) (2.9.0.post0)\n",
      "Requirement already satisfied: tzdata>=2022.7 in c:\\users\\achar\\appdata\\local\\programs\\python\\python310\\lib\\site-packages (from pandas) (2024.2)\n",
      "Requirement already satisfied: numpy>=1.22.4 in c:\\users\\achar\\appdata\\local\\programs\\python\\python310\\lib\\site-packages (from pandas) (1.23.5)\n",
      "Requirement already satisfied: six>=1.5 in c:\\users\\achar\\appdata\\roaming\\python\\python310\\site-packages (from python-dateutil>=2.8.2->pandas) (1.17.0)\n",
      "Note: you may need to restart the kernel to use updated packages.\n"
     ]
    },
    {
     "name": "stderr",
     "output_type": "stream",
     "text": [
      "\n",
      "[notice] A new release of pip is available: 23.0.1 -> 25.2\n",
      "[notice] To update, run: python.exe -m pip install --upgrade pip\n"
     ]
    }
   ],
   "source": [
    "pip install pandas"
   ]
  },
  {
   "cell_type": "code",
   "execution_count": 5,
   "id": "9f32dbc2-805d-4ff6-9fcb-a836ea4467c2",
   "metadata": {},
   "outputs": [
    {
     "name": "stdout",
     "output_type": "stream",
     "text": [
      "Collecting psycopg2\n",
      "  Using cached psycopg2-2.9.10-cp310-cp310-win_amd64.whl (1.2 MB)\n",
      "Installing collected packages: psycopg2\n",
      "Successfully installed psycopg2-2.9.10\n",
      "Note: you may need to restart the kernel to use updated packages.\n"
     ]
    },
    {
     "name": "stderr",
     "output_type": "stream",
     "text": [
      "\n",
      "[notice] A new release of pip is available: 23.0.1 -> 25.2\n",
      "[notice] To update, run: python.exe -m pip install --upgrade pip\n"
     ]
    }
   ],
   "source": [
    "pip install psycopg2"
   ]
  },
  {
   "cell_type": "code",
   "execution_count": 6,
   "id": "1611d5a2-0340-4adb-8858-1b0f4ce3d23b",
   "metadata": {},
   "outputs": [
    {
     "name": "stdout",
     "output_type": "stream",
     "text": [
      "Collecting sqlalchemy\n",
      "  Downloading sqlalchemy-2.0.42-cp310-cp310-win_amd64.whl (2.1 MB)\n",
      "     ---------------------------------------- 0.0/2.1 MB ? eta -:--:--\n",
      "      --------------------------------------- 0.0/2.1 MB 1.4 MB/s eta 0:00:02\n",
      "     - -------------------------------------- 0.1/2.1 MB 1.1 MB/s eta 0:00:02\n",
      "     - -------------------------------------- 0.1/2.1 MB 787.7 kB/s eta 0:00:03\n",
      "     - -------------------------------------- 0.1/2.1 MB 787.7 kB/s eta 0:00:03\n",
      "     - -------------------------------------- 0.1/2.1 MB 787.7 kB/s eta 0:00:03\n",
      "     - -------------------------------------- 0.1/2.1 MB 787.7 kB/s eta 0:00:03\n",
      "     -- ------------------------------------- 0.1/2.1 MB 437.6 kB/s eta 0:00:05\n",
      "     -- ------------------------------------- 0.1/2.1 MB 502.3 kB/s eta 0:00:04\n",
      "     -- ------------------------------------- 0.2/2.1 MB 459.5 kB/s eta 0:00:05\n",
      "     -- ------------------------------------- 0.2/2.1 MB 459.5 kB/s eta 0:00:05\n",
      "     -- ------------------------------------- 0.2/2.1 MB 459.5 kB/s eta 0:00:05\n",
      "     -- ------------------------------------- 0.2/2.1 MB 459.5 kB/s eta 0:00:05\n",
      "     --- ------------------------------------ 0.2/2.1 MB 421.8 kB/s eta 0:00:05\n",
      "     --- ------------------------------------ 0.2/2.1 MB 421.8 kB/s eta 0:00:05\n",
      "     --- ------------------------------------ 0.2/2.1 MB 421.8 kB/s eta 0:00:05\n",
      "     --- ------------------------------------ 0.2/2.1 MB 421.8 kB/s eta 0:00:05\n",
      "     --- ------------------------------------ 0.2/2.1 MB 421.8 kB/s eta 0:00:05\n",
      "     ---- ----------------------------------- 0.3/2.1 MB 384.0 kB/s eta 0:00:05\n",
      "     ---- ----------------------------------- 0.3/2.1 MB 384.0 kB/s eta 0:00:05\n",
      "     ----- ---------------------------------- 0.3/2.1 MB 437.0 kB/s eta 0:00:05\n",
      "     ------ --------------------------------- 0.3/2.1 MB 446.4 kB/s eta 0:00:04\n",
      "     ------ --------------------------------- 0.3/2.1 MB 446.4 kB/s eta 0:00:04\n",
      "     ------- -------------------------------- 0.4/2.1 MB 466.6 kB/s eta 0:00:04\n",
      "     ------- -------------------------------- 0.4/2.1 MB 485.9 kB/s eta 0:00:04\n",
      "     ------- -------------------------------- 0.4/2.1 MB 485.9 kB/s eta 0:00:04\n",
      "     -------- ------------------------------- 0.4/2.1 MB 467.0 kB/s eta 0:00:04\n",
      "     -------- ------------------------------- 0.4/2.1 MB 467.0 kB/s eta 0:00:04\n",
      "     -------- ------------------------------- 0.4/2.1 MB 467.0 kB/s eta 0:00:04\n",
      "     -------- ------------------------------- 0.4/2.1 MB 467.0 kB/s eta 0:00:04\n",
      "     -------- ------------------------------- 0.4/2.1 MB 467.0 kB/s eta 0:00:04\n",
      "     -------- ------------------------------- 0.4/2.1 MB 467.0 kB/s eta 0:00:04\n",
      "     -------- ------------------------------- 0.4/2.1 MB 467.0 kB/s eta 0:00:04\n",
      "     -------- ------------------------------- 0.4/2.1 MB 467.0 kB/s eta 0:00:04\n",
      "     -------- ------------------------------- 0.4/2.1 MB 467.0 kB/s eta 0:00:04\n",
      "     --------- ------------------------------ 0.5/2.1 MB 409.6 kB/s eta 0:00:04\n",
      "     ----------- ---------------------------- 0.6/2.1 MB 453.3 kB/s eta 0:00:04\n",
      "     ----------- ---------------------------- 0.6/2.1 MB 453.3 kB/s eta 0:00:04\n",
      "     ----------- ---------------------------- 0.6/2.1 MB 453.3 kB/s eta 0:00:04\n",
      "     ----------- ---------------------------- 0.6/2.1 MB 427.3 kB/s eta 0:00:04\n",
      "     ----------- ---------------------------- 0.6/2.1 MB 427.3 kB/s eta 0:00:04\n",
      "     ----------- ---------------------------- 0.6/2.1 MB 420.9 kB/s eta 0:00:04\n",
      "     ------------ --------------------------- 0.7/2.1 MB 436.9 kB/s eta 0:00:04\n",
      "     ------------ --------------------------- 0.7/2.1 MB 436.9 kB/s eta 0:00:04\n",
      "     ------------- -------------------------- 0.7/2.1 MB 447.8 kB/s eta 0:00:04\n",
      "     ------------- -------------------------- 0.7/2.1 MB 450.0 kB/s eta 0:00:04\n",
      "     ------------- -------------------------- 0.7/2.1 MB 450.0 kB/s eta 0:00:04\n",
      "     ------------- -------------------------- 0.7/2.1 MB 450.0 kB/s eta 0:00:04\n",
      "     ------------- -------------------------- 0.7/2.1 MB 450.0 kB/s eta 0:00:04\n",
      "     -------------- ------------------------- 0.8/2.1 MB 425.5 kB/s eta 0:00:04\n",
      "     -------------- ------------------------- 0.8/2.1 MB 425.5 kB/s eta 0:00:04\n",
      "     -------------- ------------------------- 0.8/2.1 MB 425.5 kB/s eta 0:00:04\n",
      "     -------------- ------------------------- 0.8/2.1 MB 406.3 kB/s eta 0:00:04\n",
      "     -------------- ------------------------- 0.8/2.1 MB 406.3 kB/s eta 0:00:04\n",
      "     -------------- ------------------------- 0.8/2.1 MB 406.3 kB/s eta 0:00:04\n",
      "     --------------- ------------------------ 0.8/2.1 MB 394.2 kB/s eta 0:00:04\n",
      "     --------------- ------------------------ 0.8/2.1 MB 394.2 kB/s eta 0:00:04\n",
      "     --------------- ------------------------ 0.8/2.1 MB 394.2 kB/s eta 0:00:04\n",
      "     --------------- ------------------------ 0.8/2.1 MB 381.6 kB/s eta 0:00:04\n",
      "     --------------- ------------------------ 0.8/2.1 MB 385.5 kB/s eta 0:00:04\n",
      "     --------------- ------------------------ 0.8/2.1 MB 385.5 kB/s eta 0:00:04\n",
      "     --------------- ------------------------ 0.8/2.1 MB 385.5 kB/s eta 0:00:04\n",
      "     --------------- ------------------------ 0.8/2.1 MB 385.5 kB/s eta 0:00:04\n",
      "     --------------- ------------------------ 0.8/2.1 MB 385.5 kB/s eta 0:00:04\n",
      "     --------------- ------------------------ 0.8/2.1 MB 385.5 kB/s eta 0:00:04\n",
      "     --------------- ------------------------ 0.8/2.1 MB 385.5 kB/s eta 0:00:04\n",
      "     --------------- ------------------------ 0.8/2.1 MB 385.5 kB/s eta 0:00:04\n",
      "     ---------------- ----------------------- 0.8/2.1 MB 344.6 kB/s eta 0:00:04\n",
      "     ---------------- ----------------------- 0.9/2.1 MB 344.4 kB/s eta 0:00:04\n",
      "     ---------------- ----------------------- 0.9/2.1 MB 344.4 kB/s eta 0:00:04\n",
      "     ---------------- ----------------------- 0.9/2.1 MB 344.4 kB/s eta 0:00:04\n",
      "     ---------------- ----------------------- 0.9/2.1 MB 341.6 kB/s eta 0:00:04\n",
      "     ---------------- ----------------------- 0.9/2.1 MB 341.6 kB/s eta 0:00:04\n",
      "     ---------------- ----------------------- 0.9/2.1 MB 341.6 kB/s eta 0:00:04\n",
      "     ----------------- ---------------------- 0.9/2.1 MB 341.0 kB/s eta 0:00:04\n",
      "     ----------------- ---------------------- 0.9/2.1 MB 341.0 kB/s eta 0:00:04\n",
      "     ----------------- ---------------------- 0.9/2.1 MB 341.0 kB/s eta 0:00:04\n",
      "     ----------------- ---------------------- 0.9/2.1 MB 341.0 kB/s eta 0:00:04\n",
      "     ----------------- ---------------------- 0.9/2.1 MB 341.0 kB/s eta 0:00:04\n",
      "     ----------------- ---------------------- 0.9/2.1 MB 341.0 kB/s eta 0:00:04\n",
      "     ----------------- ---------------------- 0.9/2.1 MB 341.0 kB/s eta 0:00:04\n",
      "     ----------------- ---------------------- 0.9/2.1 MB 341.0 kB/s eta 0:00:04\n",
      "     ----------------- ---------------------- 0.9/2.1 MB 341.0 kB/s eta 0:00:04\n",
      "     ----------------- ---------------------- 0.9/2.1 MB 341.0 kB/s eta 0:00:04\n",
      "     ----------------- ---------------------- 0.9/2.1 MB 341.0 kB/s eta 0:00:04\n",
      "     ----------------- ---------------------- 0.9/2.1 MB 341.0 kB/s eta 0:00:04\n",
      "     ------------------ --------------------- 1.0/2.1 MB 314.6 kB/s eta 0:00:04\n",
      "     ------------------ --------------------- 1.0/2.1 MB 314.6 kB/s eta 0:00:04\n",
      "     ------------------ --------------------- 1.0/2.1 MB 314.6 kB/s eta 0:00:04\n",
      "     ------------------ --------------------- 1.0/2.1 MB 314.6 kB/s eta 0:00:04\n",
      "     ------------------- -------------------- 1.0/2.1 MB 305.9 kB/s eta 0:00:04\n",
      "     ------------------- -------------------- 1.0/2.1 MB 307.6 kB/s eta 0:00:04\n",
      "     ------------------- -------------------- 1.0/2.1 MB 307.6 kB/s eta 0:00:04\n",
      "     ------------------- -------------------- 1.0/2.1 MB 307.6 kB/s eta 0:00:04\n",
      "     ------------------- -------------------- 1.0/2.1 MB 303.7 kB/s eta 0:00:04\n",
      "     ------------------- -------------------- 1.1/2.1 MB 301.2 kB/s eta 0:00:04\n",
      "     -------------------- ------------------- 1.1/2.1 MB 305.7 kB/s eta 0:00:04\n",
      "     -------------------- ------------------- 1.1/2.1 MB 305.7 kB/s eta 0:00:04\n",
      "     -------------------- ------------------- 1.1/2.1 MB 304.7 kB/s eta 0:00:04\n",
      "     -------------------- ------------------- 1.1/2.1 MB 304.7 kB/s eta 0:00:04\n",
      "     -------------------- ------------------- 1.1/2.1 MB 304.7 kB/s eta 0:00:04\n",
      "     -------------------- ------------------- 1.1/2.1 MB 298.5 kB/s eta 0:00:04\n",
      "     --------------------- ------------------ 1.1/2.1 MB 303.0 kB/s eta 0:00:04\n",
      "     --------------------- ------------------ 1.1/2.1 MB 303.0 kB/s eta 0:00:04\n",
      "     --------------------- ------------------ 1.1/2.1 MB 303.0 kB/s eta 0:00:04\n",
      "     --------------------- ------------------ 1.2/2.1 MB 299.6 kB/s eta 0:00:04\n",
      "     ---------------------- ----------------- 1.2/2.1 MB 303.8 kB/s eta 0:00:04\n",
      "     ---------------------- ----------------- 1.2/2.1 MB 303.8 kB/s eta 0:00:04\n",
      "     ---------------------- ----------------- 1.2/2.1 MB 297.9 kB/s eta 0:00:04\n",
      "     ---------------------- ----------------- 1.2/2.1 MB 303.3 kB/s eta 0:00:03\n",
      "     ---------------------- ----------------- 1.2/2.1 MB 303.3 kB/s eta 0:00:03\n",
      "     ---------------------- ----------------- 1.2/2.1 MB 303.3 kB/s eta 0:00:03\n",
      "     ---------------------- ----------------- 1.2/2.1 MB 303.3 kB/s eta 0:00:03\n",
      "     ---------------------- ----------------- 1.2/2.1 MB 303.3 kB/s eta 0:00:03\n",
      "     ---------------------- ----------------- 1.2/2.1 MB 303.3 kB/s eta 0:00:03\n",
      "     ---------------------- ----------------- 1.2/2.1 MB 303.3 kB/s eta 0:00:03\n",
      "     ---------------------- ----------------- 1.2/2.1 MB 303.3 kB/s eta 0:00:03\n",
      "     ---------------------- ----------------- 1.2/2.1 MB 303.3 kB/s eta 0:00:03\n",
      "     ---------------------- ----------------- 1.2/2.1 MB 303.3 kB/s eta 0:00:03\n",
      "     ---------------------- ----------------- 1.2/2.1 MB 303.3 kB/s eta 0:00:03\n",
      "     ---------------------- ----------------- 1.2/2.1 MB 303.3 kB/s eta 0:00:03\n",
      "     ---------------------- ----------------- 1.2/2.1 MB 303.3 kB/s eta 0:00:03\n",
      "     ---------------------- ----------------- 1.2/2.1 MB 303.3 kB/s eta 0:00:03\n",
      "     ---------------------- ----------------- 1.2/2.1 MB 303.3 kB/s eta 0:00:03\n",
      "     ------------------------- -------------- 1.3/2.1 MB 292.8 kB/s eta 0:00:03\n",
      "     ------------------------- -------------- 1.3/2.1 MB 292.8 kB/s eta 0:00:03\n",
      "     ------------------------- -------------- 1.3/2.1 MB 292.8 kB/s eta 0:00:03\n",
      "     ------------------------- -------------- 1.4/2.1 MB 286.2 kB/s eta 0:00:03\n",
      "     ------------------------- -------------- 1.4/2.1 MB 289.6 kB/s eta 0:00:03\n",
      "     ------------------------- -------------- 1.4/2.1 MB 289.6 kB/s eta 0:00:03\n",
      "     ------------------------- -------------- 1.4/2.1 MB 289.6 kB/s eta 0:00:03\n",
      "     -------------------------- ------------- 1.4/2.1 MB 284.2 kB/s eta 0:00:03\n",
      "     -------------------------- ------------- 1.4/2.1 MB 284.2 kB/s eta 0:00:03\n",
      "     -------------------------- ------------- 1.4/2.1 MB 284.2 kB/s eta 0:00:03\n",
      "     -------------------------- ------------- 1.4/2.1 MB 284.2 kB/s eta 0:00:03\n",
      "     -------------------------- ------------- 1.4/2.1 MB 281.2 kB/s eta 0:00:03\n",
      "     -------------------------- ------------- 1.4/2.1 MB 281.2 kB/s eta 0:00:03\n",
      "     -------------------------- ------------- 1.4/2.1 MB 281.2 kB/s eta 0:00:03\n",
      "     -------------------------- ------------- 1.4/2.1 MB 277.5 kB/s eta 0:00:03\n",
      "     -------------------------- ------------- 1.4/2.1 MB 277.5 kB/s eta 0:00:03\n",
      "     -------------------------- ------------- 1.4/2.1 MB 277.5 kB/s eta 0:00:03\n",
      "     --------------------------- ------------ 1.4/2.1 MB 271.1 kB/s eta 0:00:03\n",
      "     --------------------------- ------------ 1.4/2.1 MB 271.1 kB/s eta 0:00:03\n",
      "     --------------------------- ------------ 1.4/2.1 MB 271.1 kB/s eta 0:00:03\n",
      "     --------------------------- ------------ 1.4/2.1 MB 271.1 kB/s eta 0:00:03\n",
      "     --------------------------- ------------ 1.4/2.1 MB 271.1 kB/s eta 0:00:03\n",
      "     --------------------------- ------------ 1.4/2.1 MB 271.1 kB/s eta 0:00:03\n",
      "     --------------------------- ------------ 1.4/2.1 MB 271.1 kB/s eta 0:00:03\n",
      "     --------------------------- ------------ 1.5/2.1 MB 261.8 kB/s eta 0:00:03\n",
      "     --------------------------- ------------ 1.5/2.1 MB 261.8 kB/s eta 0:00:03\n",
      "     --------------------------- ------------ 1.5/2.1 MB 258.5 kB/s eta 0:00:03\n",
      "     --------------------------- ------------ 1.5/2.1 MB 261.4 kB/s eta 0:00:03\n",
      "     --------------------------- ------------ 1.5/2.1 MB 261.4 kB/s eta 0:00:03\n",
      "     --------------------------- ------------ 1.5/2.1 MB 261.4 kB/s eta 0:00:03\n",
      "     ---------------------------- ----------- 1.5/2.1 MB 260.0 kB/s eta 0:00:03\n",
      "     ---------------------------- ----------- 1.5/2.1 MB 260.0 kB/s eta 0:00:03\n",
      "     ---------------------------- ----------- 1.5/2.1 MB 256.2 kB/s eta 0:00:03\n",
      "     ---------------------------- ----------- 1.5/2.1 MB 256.2 kB/s eta 0:00:03\n",
      "     ---------------------------- ----------- 1.5/2.1 MB 256.2 kB/s eta 0:00:03\n",
      "     ---------------------------- ----------- 1.5/2.1 MB 256.2 kB/s eta 0:00:03\n",
      "     ---------------------------- ----------- 1.5/2.1 MB 256.2 kB/s eta 0:00:03\n",
      "     ----------------------------- ---------- 1.6/2.1 MB 258.8 kB/s eta 0:00:03\n",
      "     ------------------------------ --------- 1.6/2.1 MB 261.2 kB/s eta 0:00:02\n",
      "     ------------------------------ --------- 1.6/2.1 MB 261.5 kB/s eta 0:00:02\n",
      "     ------------------------------- -------- 1.7/2.1 MB 266.1 kB/s eta 0:00:02\n",
      "     -------------------------------- ------- 1.7/2.1 MB 269.0 kB/s eta 0:00:02\n",
      "     -------------------------------- ------- 1.7/2.1 MB 269.0 kB/s eta 0:00:02\n",
      "     -------------------------------- ------- 1.7/2.1 MB 269.0 kB/s eta 0:00:02\n",
      "     -------------------------------- ------- 1.7/2.1 MB 265.4 kB/s eta 0:00:02\n",
      "     -------------------------------- ------- 1.7/2.1 MB 265.4 kB/s eta 0:00:02\n",
      "     --------------------------------- ------ 1.8/2.1 MB 267.8 kB/s eta 0:00:02\n",
      "     --------------------------------- ------ 1.8/2.1 MB 268.8 kB/s eta 0:00:02\n",
      "     --------------------------------- ------ 1.8/2.1 MB 270.9 kB/s eta 0:00:02\n",
      "     ---------------------------------- ----- 1.8/2.1 MB 275.8 kB/s eta 0:00:02\n",
      "     ----------------------------------- ---- 1.9/2.1 MB 279.1 kB/s eta 0:00:01\n",
      "     ----------------------------------- ---- 1.9/2.1 MB 278.7 kB/s eta 0:00:01\n",
      "     ----------------------------------- ---- 1.9/2.1 MB 281.1 kB/s eta 0:00:01\n",
      "     ------------------------------------ --- 1.9/2.1 MB 282.2 kB/s eta 0:00:01\n",
      "     ------------------------------------ --- 2.0/2.1 MB 285.6 kB/s eta 0:00:01\n",
      "     ------------------------------------- -- 2.0/2.1 MB 287.3 kB/s eta 0:00:01\n",
      "     -------------------------------------- - 2.0/2.1 MB 292.8 kB/s eta 0:00:01\n",
      "     -------------------------------------- - 2.1/2.1 MB 295.2 kB/s eta 0:00:01\n",
      "     ---------------------------------------  2.1/2.1 MB 296.2 kB/s eta 0:00:01\n",
      "     ---------------------------------------  2.1/2.1 MB 300.7 kB/s eta 0:00:01\n",
      "     ---------------------------------------- 2.1/2.1 MB 300.4 kB/s eta 0:00:00\n",
      "Requirement already satisfied: typing-extensions>=4.6.0 in c:\\users\\achar\\appdata\\roaming\\python\\python310\\site-packages (from sqlalchemy) (4.12.2)\n",
      "Collecting greenlet>=1\n",
      "  Downloading greenlet-3.2.4-cp310-cp310-win_amd64.whl (298 kB)\n",
      "     ---------------------------------------- 0.0/298.7 kB ? eta -:--:--\n",
      "     ----- --------------------------------- 41.0/298.7 kB 1.9 MB/s eta 0:00:01\n",
      "     -------- ------------------------------ 61.4/298.7 kB 1.1 MB/s eta 0:00:01\n",
      "     ------------- ---------------------- 112.6/298.7 kB 930.9 kB/s eta 0:00:01\n",
      "     ------------------ ----------------- 153.6/298.7 kB 913.1 kB/s eta 0:00:01\n",
      "     ----------------------- ------------ 194.6/298.7 kB 908.0 kB/s eta 0:00:01\n",
      "     ------------------------ ----------- 204.8/298.7 kB 888.4 kB/s eta 0:00:01\n",
      "     ------------------------------ ----- 256.0/298.7 kB 827.5 kB/s eta 0:00:01\n",
      "     --------------------------------- -- 276.5/298.7 kB 850.6 kB/s eta 0:00:01\n",
      "     ------------------------------------ 298.7/298.7 kB 838.4 kB/s eta 0:00:00\n",
      "Installing collected packages: greenlet, sqlalchemy\n",
      "Successfully installed greenlet-3.2.4 sqlalchemy-2.0.42\n",
      "Note: you may need to restart the kernel to use updated packages.\n"
     ]
    },
    {
     "name": "stderr",
     "output_type": "stream",
     "text": [
      "\n",
      "[notice] A new release of pip is available: 23.0.1 -> 25.2\n",
      "[notice] To update, run: python.exe -m pip install --upgrade pip\n"
     ]
    }
   ],
   "source": [
    "pip install sqlalchemy"
   ]
  },
  {
   "cell_type": "code",
   "execution_count": 7,
   "id": "9476aaf1-9026-4a16-97e2-044da129d101",
   "metadata": {},
   "outputs": [],
   "source": [
    "#import libraries\n",
    "import pandas as pd\n",
    "import psycopg2 #for connecting python to postgresql\n",
    "from sqlalchemy import create_engine #to efficiently manage and reuse database connection"
   ]
  },
  {
   "cell_type": "code",
   "execution_count": 11,
   "id": "c65a30a6-5f8e-4ca4-b509-e475e3bb26db",
   "metadata": {},
   "outputs": [],
   "source": [
    "df=pd.read_csv(r\"C:\\Users\\achar\\Desktop\\Utilities\\DataEngineering\\ETL_Project\\First ETL Project\\MOCK_DATA.csv\")"
   ]
  },
  {
   "cell_type": "code",
   "execution_count": 12,
   "id": "9159df2e-f441-426a-8536-7c82467bd5a9",
   "metadata": {},
   "outputs": [
    {
     "data": {
      "text/html": [
       "<div>\n",
       "<style scoped>\n",
       "    .dataframe tbody tr th:only-of-type {\n",
       "        vertical-align: middle;\n",
       "    }\n",
       "\n",
       "    .dataframe tbody tr th {\n",
       "        vertical-align: top;\n",
       "    }\n",
       "\n",
       "    .dataframe thead th {\n",
       "        text-align: right;\n",
       "    }\n",
       "</style>\n",
       "<table border=\"1\" class=\"dataframe\">\n",
       "  <thead>\n",
       "    <tr style=\"text-align: right;\">\n",
       "      <th></th>\n",
       "      <th>id</th>\n",
       "      <th>first_name</th>\n",
       "      <th>last_name</th>\n",
       "      <th>email</th>\n",
       "      <th>gender</th>\n",
       "      <th>ip_address</th>\n",
       "    </tr>\n",
       "  </thead>\n",
       "  <tbody>\n",
       "    <tr>\n",
       "      <th>0</th>\n",
       "      <td>1</td>\n",
       "      <td>Ede</td>\n",
       "      <td>Keneleyside</td>\n",
       "      <td>ekeneleyside0@ustream.tv</td>\n",
       "      <td>Female</td>\n",
       "      <td>160.207.123.12</td>\n",
       "    </tr>\n",
       "    <tr>\n",
       "      <th>1</th>\n",
       "      <td>2</td>\n",
       "      <td>Shelia</td>\n",
       "      <td>Swanson</td>\n",
       "      <td>sswanson1@engadget.com</td>\n",
       "      <td>Bigender</td>\n",
       "      <td>131.29.109.71</td>\n",
       "    </tr>\n",
       "    <tr>\n",
       "      <th>2</th>\n",
       "      <td>3</td>\n",
       "      <td>Porty</td>\n",
       "      <td>Jochanany</td>\n",
       "      <td>pjochanany2@shutterfly.com</td>\n",
       "      <td>Male</td>\n",
       "      <td>16.236.109.154</td>\n",
       "    </tr>\n",
       "    <tr>\n",
       "      <th>3</th>\n",
       "      <td>4</td>\n",
       "      <td>Ellis</td>\n",
       "      <td>Ovill</td>\n",
       "      <td>eovill3@shareasale.com</td>\n",
       "      <td>Male</td>\n",
       "      <td>199.86.130.56</td>\n",
       "    </tr>\n",
       "    <tr>\n",
       "      <th>4</th>\n",
       "      <td>5</td>\n",
       "      <td>Gerrie</td>\n",
       "      <td>Malecky</td>\n",
       "      <td>gmalecky4@dell.com</td>\n",
       "      <td>Female</td>\n",
       "      <td>82.184.43.12</td>\n",
       "    </tr>\n",
       "  </tbody>\n",
       "</table>\n",
       "</div>"
      ],
      "text/plain": [
       "   id first_name    last_name                       email    gender  \\\n",
       "0   1        Ede  Keneleyside    ekeneleyside0@ustream.tv    Female   \n",
       "1   2     Shelia      Swanson      sswanson1@engadget.com  Bigender   \n",
       "2   3      Porty    Jochanany  pjochanany2@shutterfly.com      Male   \n",
       "3   4      Ellis        Ovill      eovill3@shareasale.com      Male   \n",
       "4   5     Gerrie      Malecky          gmalecky4@dell.com    Female   \n",
       "\n",
       "       ip_address  \n",
       "0  160.207.123.12  \n",
       "1   131.29.109.71  \n",
       "2  16.236.109.154  \n",
       "3   199.86.130.56  \n",
       "4    82.184.43.12  "
      ]
     },
     "execution_count": 12,
     "metadata": {},
     "output_type": "execute_result"
    }
   ],
   "source": [
    "df.head()"
   ]
  },
  {
   "cell_type": "code",
   "execution_count": 13,
   "id": "3cf2e5a8-30b4-4af3-98c8-28d5f16a6245",
   "metadata": {},
   "outputs": [
    {
     "data": {
      "text/html": [
       "<div>\n",
       "<style scoped>\n",
       "    .dataframe tbody tr th:only-of-type {\n",
       "        vertical-align: middle;\n",
       "    }\n",
       "\n",
       "    .dataframe tbody tr th {\n",
       "        vertical-align: top;\n",
       "    }\n",
       "\n",
       "    .dataframe thead th {\n",
       "        text-align: right;\n",
       "    }\n",
       "</style>\n",
       "<table border=\"1\" class=\"dataframe\">\n",
       "  <thead>\n",
       "    <tr style=\"text-align: right;\">\n",
       "      <th></th>\n",
       "      <th>id</th>\n",
       "      <th>first_name</th>\n",
       "      <th>last_name</th>\n",
       "      <th>email</th>\n",
       "      <th>gender</th>\n",
       "      <th>ip_address</th>\n",
       "    </tr>\n",
       "  </thead>\n",
       "  <tbody>\n",
       "    <tr>\n",
       "      <th>4995</th>\n",
       "      <td>4996</td>\n",
       "      <td>Kym</td>\n",
       "      <td>Antham</td>\n",
       "      <td>kanthamrn@unicef.org</td>\n",
       "      <td>Female</td>\n",
       "      <td>138.50.208.39</td>\n",
       "    </tr>\n",
       "    <tr>\n",
       "      <th>4996</th>\n",
       "      <td>4997</td>\n",
       "      <td>Mitch</td>\n",
       "      <td>Glasser</td>\n",
       "      <td>mglasserro@comsenz.com</td>\n",
       "      <td>Male</td>\n",
       "      <td>4.101.187.211</td>\n",
       "    </tr>\n",
       "    <tr>\n",
       "      <th>4997</th>\n",
       "      <td>4998</td>\n",
       "      <td>Niko</td>\n",
       "      <td>Fairrie</td>\n",
       "      <td>nfairrierp@java.com</td>\n",
       "      <td>Male</td>\n",
       "      <td>241.78.241.116</td>\n",
       "    </tr>\n",
       "    <tr>\n",
       "      <th>4998</th>\n",
       "      <td>4999</td>\n",
       "      <td>Ally</td>\n",
       "      <td>Moyle</td>\n",
       "      <td>amoylerq@4shared.com</td>\n",
       "      <td>Female</td>\n",
       "      <td>96.69.154.170</td>\n",
       "    </tr>\n",
       "    <tr>\n",
       "      <th>4999</th>\n",
       "      <td>5000</td>\n",
       "      <td>Bartholomeo</td>\n",
       "      <td>Letham</td>\n",
       "      <td>blethamrr@oaic.gov.au</td>\n",
       "      <td>Male</td>\n",
       "      <td>213.157.56.9</td>\n",
       "    </tr>\n",
       "  </tbody>\n",
       "</table>\n",
       "</div>"
      ],
      "text/plain": [
       "        id   first_name last_name                   email  gender  \\\n",
       "4995  4996          Kym    Antham    kanthamrn@unicef.org  Female   \n",
       "4996  4997        Mitch   Glasser  mglasserro@comsenz.com    Male   \n",
       "4997  4998         Niko   Fairrie     nfairrierp@java.com    Male   \n",
       "4998  4999         Ally     Moyle    amoylerq@4shared.com  Female   \n",
       "4999  5000  Bartholomeo    Letham   blethamrr@oaic.gov.au    Male   \n",
       "\n",
       "          ip_address  \n",
       "4995   138.50.208.39  \n",
       "4996   4.101.187.211  \n",
       "4997  241.78.241.116  \n",
       "4998   96.69.154.170  \n",
       "4999    213.157.56.9  "
      ]
     },
     "execution_count": 13,
     "metadata": {},
     "output_type": "execute_result"
    }
   ],
   "source": [
    "df.tail()"
   ]
  },
  {
   "cell_type": "code",
   "execution_count": 14,
   "id": "73d3e040-1396-4e65-a6af-6753b3d772f2",
   "metadata": {},
   "outputs": [
    {
     "name": "stdout",
     "output_type": "stream",
     "text": [
      "<class 'pandas.core.frame.DataFrame'>\n",
      "RangeIndex: 5000 entries, 0 to 4999\n",
      "Data columns (total 6 columns):\n",
      " #   Column      Non-Null Count  Dtype \n",
      "---  ------      --------------  ----- \n",
      " 0   id          5000 non-null   int64 \n",
      " 1   first_name  5000 non-null   object\n",
      " 2   last_name   5000 non-null   object\n",
      " 3   email       4423 non-null   object\n",
      " 4   gender      5000 non-null   object\n",
      " 5   ip_address  4670 non-null   object\n",
      "dtypes: int64(1), object(5)\n",
      "memory usage: 234.5+ KB\n"
     ]
    }
   ],
   "source": [
    "df.info()"
   ]
  },
  {
   "cell_type": "code",
   "execution_count": 15,
   "id": "e22647d6-b0d2-4b61-9298-de62bf5cd984",
   "metadata": {},
   "outputs": [
    {
     "data": {
      "text/plain": [
       "id              0\n",
       "first_name      0\n",
       "last_name       0\n",
       "email         577\n",
       "gender          0\n",
       "ip_address    330\n",
       "dtype: int64"
      ]
     },
     "execution_count": 15,
     "metadata": {},
     "output_type": "execute_result"
    }
   ],
   "source": [
    "df.isna().sum()"
   ]
  },
  {
   "cell_type": "code",
   "execution_count": 16,
   "id": "9bfc0797-b21e-4d60-9955-1f47a1c1acfe",
   "metadata": {},
   "outputs": [
    {
     "data": {
      "text/html": [
       "<div>\n",
       "<style scoped>\n",
       "    .dataframe tbody tr th:only-of-type {\n",
       "        vertical-align: middle;\n",
       "    }\n",
       "\n",
       "    .dataframe tbody tr th {\n",
       "        vertical-align: top;\n",
       "    }\n",
       "\n",
       "    .dataframe thead th {\n",
       "        text-align: right;\n",
       "    }\n",
       "</style>\n",
       "<table border=\"1\" class=\"dataframe\">\n",
       "  <thead>\n",
       "    <tr style=\"text-align: right;\">\n",
       "      <th></th>\n",
       "      <th>id</th>\n",
       "      <th>first_name</th>\n",
       "      <th>last_name</th>\n",
       "      <th>email</th>\n",
       "      <th>gender</th>\n",
       "      <th>ip_address</th>\n",
       "    </tr>\n",
       "  </thead>\n",
       "  <tbody>\n",
       "    <tr>\n",
       "      <th>1004</th>\n",
       "      <td>1005</td>\n",
       "      <td>Cooper</td>\n",
       "      <td>Winspire</td>\n",
       "      <td>NaN</td>\n",
       "      <td>Male</td>\n",
       "      <td>133.5.122.84</td>\n",
       "    </tr>\n",
       "    <tr>\n",
       "      <th>1008</th>\n",
       "      <td>1009</td>\n",
       "      <td>Rodolfo</td>\n",
       "      <td>Baird</td>\n",
       "      <td>NaN</td>\n",
       "      <td>Male</td>\n",
       "      <td>121.125.252.79</td>\n",
       "    </tr>\n",
       "    <tr>\n",
       "      <th>1010</th>\n",
       "      <td>1011</td>\n",
       "      <td>Caren</td>\n",
       "      <td>Joncic</td>\n",
       "      <td>NaN</td>\n",
       "      <td>Female</td>\n",
       "      <td>37.166.247.72</td>\n",
       "    </tr>\n",
       "    <tr>\n",
       "      <th>1019</th>\n",
       "      <td>1020</td>\n",
       "      <td>Florenza</td>\n",
       "      <td>Lawton</td>\n",
       "      <td>NaN</td>\n",
       "      <td>Female</td>\n",
       "      <td>83.21.54.135</td>\n",
       "    </tr>\n",
       "    <tr>\n",
       "      <th>1028</th>\n",
       "      <td>1029</td>\n",
       "      <td>Davina</td>\n",
       "      <td>Poluzzi</td>\n",
       "      <td>NaN</td>\n",
       "      <td>Female</td>\n",
       "      <td>238.108.161.201</td>\n",
       "    </tr>\n",
       "  </tbody>\n",
       "</table>\n",
       "</div>"
      ],
      "text/plain": [
       "        id first_name last_name email  gender       ip_address\n",
       "1004  1005     Cooper  Winspire   NaN    Male     133.5.122.84\n",
       "1008  1009    Rodolfo     Baird   NaN    Male   121.125.252.79\n",
       "1010  1011      Caren    Joncic   NaN  Female    37.166.247.72\n",
       "1019  1020   Florenza    Lawton   NaN  Female     83.21.54.135\n",
       "1028  1029     Davina   Poluzzi   NaN  Female  238.108.161.201"
      ]
     },
     "execution_count": 16,
     "metadata": {},
     "output_type": "execute_result"
    }
   ],
   "source": [
    "#missing data in email column\n",
    "\n",
    "df[df['email'].isna()].head()"
   ]
  },
  {
   "cell_type": "code",
   "execution_count": 17,
   "id": "4ea0ef2b-51f6-4991-9039-840748a9c492",
   "metadata": {},
   "outputs": [
    {
     "name": "stderr",
     "output_type": "stream",
     "text": [
      "C:\\Users\\achar\\AppData\\Local\\Temp\\ipykernel_16228\\2136796502.py:3: FutureWarning: A value is trying to be set on a copy of a DataFrame or Series through chained assignment using an inplace method.\n",
      "The behavior will change in pandas 3.0. This inplace method will never work because the intermediate object on which we are setting values always behaves as a copy.\n",
      "\n",
      "For example, when doing 'df[col].method(value, inplace=True)', try using 'df.method({col: value}, inplace=True)' or df[col] = df[col].method(value) instead, to perform the operation inplace on the original object.\n",
      "\n",
      "\n",
      "  df['email'].fillna('Unknown',inplace=True)\n"
     ]
    }
   ],
   "source": [
    "#fill in the missing data in email column\n",
    "\n",
    "df['email'].fillna('Unknown',inplace=True)"
   ]
  },
  {
   "cell_type": "code",
   "execution_count": 18,
   "id": "8fde862f-c232-4263-8586-74de4b3867ef",
   "metadata": {},
   "outputs": [
    {
     "name": "stderr",
     "output_type": "stream",
     "text": [
      "C:\\Users\\achar\\AppData\\Local\\Temp\\ipykernel_16228\\993018617.py:3: FutureWarning: A value is trying to be set on a copy of a DataFrame or Series through chained assignment using an inplace method.\n",
      "The behavior will change in pandas 3.0. This inplace method will never work because the intermediate object on which we are setting values always behaves as a copy.\n",
      "\n",
      "For example, when doing 'df[col].method(value, inplace=True)', try using 'df.method({col: value}, inplace=True)' or df[col] = df[col].method(value) instead, to perform the operation inplace on the original object.\n",
      "\n",
      "\n",
      "  df['ip_address'].fillna(0,inplace=True)\n"
     ]
    }
   ],
   "source": [
    "#fill in the missing data in ip_address column\n",
    "\n",
    "df['ip_address'].fillna(0,inplace=True)"
   ]
  },
  {
   "cell_type": "code",
   "execution_count": 19,
   "id": "2ccf54c8-1fef-476c-a522-014e60f0935c",
   "metadata": {},
   "outputs": [
    {
     "data": {
      "text/plain": [
       "id            0\n",
       "first_name    0\n",
       "last_name     0\n",
       "email         0\n",
       "gender        0\n",
       "ip_address    0\n",
       "dtype: int64"
      ]
     },
     "execution_count": 19,
     "metadata": {},
     "output_type": "execute_result"
    }
   ],
   "source": [
    "df.isna().sum()"
   ]
  },
  {
   "cell_type": "code",
   "execution_count": 20,
   "id": "198723a4-9844-43c1-8936-56f933e7a854",
   "metadata": {},
   "outputs": [
    {
     "name": "stdout",
     "output_type": "stream",
     "text": [
      "<class 'pandas.core.frame.DataFrame'>\n",
      "RangeIndex: 5000 entries, 0 to 4999\n",
      "Data columns (total 6 columns):\n",
      " #   Column      Non-Null Count  Dtype \n",
      "---  ------      --------------  ----- \n",
      " 0   id          5000 non-null   int64 \n",
      " 1   first_name  5000 non-null   object\n",
      " 2   last_name   5000 non-null   object\n",
      " 3   email       5000 non-null   object\n",
      " 4   gender      5000 non-null   object\n",
      " 5   ip_address  5000 non-null   object\n",
      "dtypes: int64(1), object(5)\n",
      "memory usage: 234.5+ KB\n"
     ]
    }
   ],
   "source": [
    "df.info()"
   ]
  },
  {
   "cell_type": "code",
   "execution_count": 21,
   "id": "9f701c94",
   "metadata": {},
   "outputs": [
    {
     "name": "stdout",
     "output_type": "stream",
     "text": [
      "Requirement already satisfied: dotenv in c:\\users\\achar\\appdata\\local\\programs\\python\\python310\\lib\\site-packages (0.9.9)\n",
      "Requirement already satisfied: python-dotenv in c:\\users\\achar\\appdata\\local\\programs\\python\\python310\\lib\\site-packages (from dotenv) (1.1.1)\n",
      "Note: you may need to restart the kernel to use updated packages.\n"
     ]
    },
    {
     "name": "stderr",
     "output_type": "stream",
     "text": [
      "\n",
      "[notice] A new release of pip is available: 23.0.1 -> 25.2\n",
      "[notice] To update, run: python.exe -m pip install --upgrade pip\n"
     ]
    }
   ],
   "source": [
    "pip install dotenv"
   ]
  },
  {
   "cell_type": "code",
   "execution_count": 23,
   "id": "91778d0c-ab88-4583-9111-8d3a398e69de",
   "metadata": {},
   "outputs": [],
   "source": [
    "from dotenv import load_dotenv\n",
    "import os\n",
    "\n",
    "load_dotenv()\n",
    "\n",
    "db_username = os.getenv(\"DB_USERNAME\")\n",
    "db_password = os.getenv(\"DB_PASSWORD\")\n",
    "db_host = os.getenv(\"DB_HOST\")\n",
    "db_port = os.getenv(\"DB_PORT\")\n",
    "db_name = os.getenv(\"DB_NAME\")\n",
    "csv_path = os.getenv(\"CSV_PATH\")\n"
   ]
  },
  {
   "cell_type": "code",
   "execution_count": 24,
   "id": "0525d423-db66-4ec9-953c-38bc4a0cdab5",
   "metadata": {},
   "outputs": [],
   "source": [
    "#Establish a connection using SQLAlchemy engine\n",
    "\n",
    "connection = create_engine(f'postgresql://{db_username}:{db_password}@{db_host}:{db_port}/{db_name}')"
   ]
  },
  {
   "cell_type": "code",
   "execution_count": 25,
   "id": "8db407f0-1d5d-4b8c-9313-ed6be6c7ad5f",
   "metadata": {},
   "outputs": [],
   "source": [
    "# Load the dataset into the postgre database\n",
    "\n",
    "df.to_sql('emp_table',connection, if_exists='replace', index=False)\n",
    "\n",
    "connection.dispose()"
   ]
  }
 ],
 "metadata": {
  "kernelspec": {
   "display_name": "Python 3",
   "language": "python",
   "name": "python3"
  },
  "language_info": {
   "codemirror_mode": {
    "name": "ipython",
    "version": 3
   },
   "file_extension": ".py",
   "mimetype": "text/x-python",
   "name": "python",
   "nbconvert_exporter": "python",
   "pygments_lexer": "ipython3",
   "version": "3.10.11"
  }
 },
 "nbformat": 4,
 "nbformat_minor": 5
}
